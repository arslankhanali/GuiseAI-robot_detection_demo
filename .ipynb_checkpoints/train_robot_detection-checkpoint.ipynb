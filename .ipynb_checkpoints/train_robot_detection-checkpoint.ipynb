{
 "cells": [
  {
   "cell_type": "markdown",
   "metadata": {
    "colab": {
     "base_uri": "https://localhost:8080/"
    },
    "id": "AgJCx6MO-_iW",
    "outputId": "84ab798e-33d3-4e38-d128-955254e0e8d9"
   },
   "source": [
    "# Training a model"
   ]
  },
  {
   "cell_type": "code",
   "execution_count": 1,
   "metadata": {},
   "outputs": [
    {
     "name": "stdout",
     "output_type": "stream",
     "text": [
      "/opt/app-root/src/GuiseAI-robot_detection_demo/\n"
     ]
    }
   ],
   "source": [
    "# Remember to upload robot_data.zip before to begin\n",
    "\n",
    "import os\n",
    "HOME = os.getcwd()\n",
    "HOME = '/opt/app-root/src/GuiseAI-robot_detection_demo/'\n",
    "print(HOME)\n",
    "     "
   ]
  },
  {
   "cell_type": "markdown",
   "metadata": {},
   "source": [
    "### Unzip the data"
   ]
  },
  {
   "cell_type": "code",
   "execution_count": null,
   "metadata": {
    "id": "IqU-pRmXByhA"
   },
   "outputs": [],
   "source": [
    "#!unzip ./robot_data.zip "
   ]
  },
  {
   "cell_type": "markdown",
   "metadata": {},
   "source": [
    "### Install required packages"
   ]
  },
  {
   "cell_type": "code",
   "execution_count": null,
   "metadata": {},
   "outputs": [],
   "source": [
    "\n",
    "%cd {HOME}\n",
    "%cd yolov5\n",
    "\n",
    "%pip uninstall -r requirements.txt -y\n",
    "!pip install numpy==1.20.3 # older version was incompatible with panda"
   ]
  },
  {
   "cell_type": "code",
   "execution_count": null,
   "metadata": {
    "colab": {
     "base_uri": "https://localhost:8080/"
    },
    "id": "C1LYXljF_KPO",
    "outputId": "dd2592c0-0bb1-415d-8740-220bc94fdfe3"
   },
   "outputs": [],
   "source": [
    "\n",
    "%pip install -r requirements.txt"
   ]
  },
  {
   "cell_type": "code",
   "execution_count": null,
   "metadata": {},
   "outputs": [],
   "source": [
    "import torch\n",
    "import utils\n",
    "display = utils.notebook_init()"
   ]
  },
  {
   "cell_type": "markdown",
   "metadata": {
    "id": "c9X6jOgqDeVK"
   },
   "source": [
    "### Begin Training\n",
    "* Change the model using the --cfg argument.\n",
    "If the model takes too much time to train, then use a smaller model ('./models/yolov5m' or './models/yolov5s')"
   ]
  },
  {
   "cell_type": "code",
   "execution_count": null,
   "metadata": {
    "id": "Quo4omFZ_5Em"
   },
   "outputs": [],
   "source": [
    "!python train.py --data './data/robot.yaml' --cfg './models/yolov5s.yaml' --epoch 10 --imgsz 640 --batch-size 2 --workers 2"
   ]
  },
  {
   "cell_type": "markdown",
   "metadata": {
    "id": "JyCcu1GXBluP"
   },
   "source": [
    "#### Training is done\n",
    "## Lets test the model"
   ]
  }
 ],
 "metadata": {
  "colab": {
   "provenance": []
  },
  "kernelspec": {
   "display_name": "Python 3",
   "language": "python",
   "name": "python3"
  },
  "language_info": {
   "codemirror_mode": {
    "name": "ipython",
    "version": 3
   },
   "file_extension": ".py",
   "mimetype": "text/x-python",
   "name": "python",
   "nbconvert_exporter": "python",
   "pygments_lexer": "ipython3",
   "version": "3.8.13"
  },
  "vscode": {
   "interpreter": {
    "hash": "1a1af0ee75eeea9e2e1ee996c87e7a2b11a0bebd85af04bb136d915cefc0abce"
   }
  }
 },
 "nbformat": 4,
 "nbformat_minor": 4
}
