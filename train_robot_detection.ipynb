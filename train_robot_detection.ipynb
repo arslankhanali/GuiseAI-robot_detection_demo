{
 "cells": [
  {
   "cell_type": "code",
   "execution_count": 1,
   "metadata": {
    "colab": {
     "base_uri": "https://localhost:8080/"
    },
    "id": "AgJCx6MO-_iW",
    "outputId": "84ab798e-33d3-4e38-d128-955254e0e8d9"
   },
   "outputs": [
    {
     "name": "stdout",
     "output_type": "stream",
     "text": [
      "/opt/app-root/src/robot_detection_demo\n"
     ]
    }
   ],
   "source": [
    "\n",
    "import os\n",
    "HOME = os.getcwd()\n",
    "print(HOME)\n",
    "     "
   ]
  },
  {
   "cell_type": "code",
   "execution_count": null,
   "metadata": {
    "id": "IqU-pRmXByhA"
   },
   "outputs": [],
   "source": [
    "!unzip ./robot_data.zip \n"
   ]
  },
  {
   "cell_type": "code",
   "execution_count": 2,
   "metadata": {
    "colab": {
     "base_uri": "https://localhost:8080/"
    },
    "id": "C1LYXljF_KPO",
    "outputId": "dd2592c0-0bb1-415d-8740-220bc94fdfe3"
   },
   "outputs": [
    {
     "name": "stderr",
     "output_type": "stream",
     "text": [
      "YOLOv5 🚀 2023-1-13 Python-3.8.13 torch-1.13.1+cu117 CPU\n"
     ]
    },
    {
     "name": "stdout",
     "output_type": "stream",
     "text": [
      "Setup complete ✅ (32 CPUs, 123.1 GB RAM, 27.1/299.5 GB disk)\n"
     ]
    }
   ],
   "source": [
    "\n",
    "%cd {HOME}\n",
    "\n",
    "%cd yolov5\n",
    "%pip install -r requirements.txt\n",
    "\n",
    "import torch\n",
    "import utils\n",
    "display = utils.notebook_init()"
   ]
  },
  {
   "cell_type": "markdown",
   "metadata": {
    "id": "c9X6jOgqDeVK"
   },
   "source": [
    "* Change the model using the --cfg argument.\n",
    "If the model takes too much time to train, then use a smaller model ('./models/yolov5m' or './models/yolov5s')"
   ]
  },
  {
   "cell_type": "code",
   "execution_count": 3,
   "metadata": {
    "id": "Quo4omFZ_5Em"
   },
   "outputs": [
    {
     "name": "stdout",
     "output_type": "stream",
     "text": [
      "\u001b[34m\u001b[1mtrain: \u001b[0mweights=yolov5s.pt, cfg=./models/yolov5s.yaml, data=./data/robot.yaml, hyp=data/hyps/hyp.scratch-low.yaml, epochs=10, batch_size=2, imgsz=640, rect=False, resume=False, nosave=False, noval=False, noautoanchor=False, noplots=False, evolve=None, bucket=, cache=None, image_weights=False, device=, multi_scale=False, single_cls=False, optimizer=SGD, sync_bn=False, workers=2, project=runs/train, name=exp, exist_ok=False, quad=False, cos_lr=False, label_smoothing=0.0, patience=100, freeze=[0], save_period=-1, seed=0, local_rank=-1, entity=None, upload_dataset=False, bbox_interval=-1, artifact_alias=latest\n",
      "\u001b[34m\u001b[1mgithub: \u001b[0mskipping check (not a git repository), for updates see https://github.com/ultralytics/yolov5\n",
      "YOLOv5 🚀 2023-1-13 Python-3.8.13 torch-1.13.1+cu117 CPU\n",
      "\n",
      "\u001b[34m\u001b[1mhyperparameters: \u001b[0mlr0=0.01, lrf=0.01, momentum=0.937, weight_decay=0.0005, warmup_epochs=3.0, warmup_momentum=0.8, warmup_bias_lr=0.1, box=0.05, cls=0.5, cls_pw=1.0, obj=1.0, obj_pw=1.0, iou_t=0.2, anchor_t=4.0, fl_gamma=0.0, hsv_h=0.015, hsv_s=0.7, hsv_v=0.4, degrees=0.0, translate=0.1, scale=0.5, shear=0.0, perspective=0.0, flipud=0.0, fliplr=0.5, mosaic=1.0, mixup=0.0, copy_paste=0.0\n",
      "\u001b[34m\u001b[1mClearML: \u001b[0mrun 'pip install clearml' to automatically track, visualize and remotely train YOLOv5 🚀 in ClearML\n",
      "\u001b[34m\u001b[1mComet: \u001b[0mrun 'pip install comet_ml' to automatically track and visualize YOLOv5 🚀 runs in Comet\n",
      "\u001b[34m\u001b[1mTensorBoard: \u001b[0mStart with 'tensorboard --logdir runs/train', view at http://localhost:6006/\n",
      "Downloading https://github.com/ultralytics/yolov5/releases/download/v7.0/yolov5s.pt to yolov5s.pt...\n",
      "100%|███████████████████████████████████████| 14.1M/14.1M [00:00<00:00, 237MB/s]\n",
      "\n",
      "Overriding model.yaml nc=80 with nc=2\n",
      "\n",
      "                 from  n    params  module                                  arguments                     \n",
      "  0                -1  1      3520  models.common.Conv                      [3, 32, 6, 2, 2]              \n",
      "  1                -1  1     18560  models.common.Conv                      [32, 64, 3, 2]                \n",
      "  2                -1  1     18816  models.common.C3                        [64, 64, 1]                   \n",
      "  3                -1  1     73984  models.common.Conv                      [64, 128, 3, 2]               \n",
      "  4                -1  2    115712  models.common.C3                        [128, 128, 2]                 \n",
      "  5                -1  1    295424  models.common.Conv                      [128, 256, 3, 2]              \n",
      "  6                -1  3    625152  models.common.C3                        [256, 256, 3]                 \n",
      "  7                -1  1   1180672  models.common.Conv                      [256, 512, 3, 2]              \n",
      "  8                -1  1   1182720  models.common.C3                        [512, 512, 1]                 \n",
      "  9                -1  1    656896  models.common.SPPF                      [512, 512, 5]                 \n",
      " 10                -1  1    131584  models.common.Conv                      [512, 256, 1, 1]              \n",
      " 11                -1  1         0  torch.nn.modules.upsampling.Upsample    [None, 2, 'nearest']          \n",
      " 12           [-1, 6]  1         0  models.common.Concat                    [1]                           \n",
      " 13                -1  1    361984  models.common.C3                        [512, 256, 1, False]          \n",
      " 14                -1  1     33024  models.common.Conv                      [256, 128, 1, 1]              \n",
      " 15                -1  1         0  torch.nn.modules.upsampling.Upsample    [None, 2, 'nearest']          \n",
      " 16           [-1, 4]  1         0  models.common.Concat                    [1]                           \n",
      " 17                -1  1     90880  models.common.C3                        [256, 128, 1, False]          \n",
      " 18                -1  1    147712  models.common.Conv                      [128, 128, 3, 2]              \n",
      " 19          [-1, 14]  1         0  models.common.Concat                    [1]                           \n",
      " 20                -1  1    296448  models.common.C3                        [256, 256, 1, False]          \n",
      " 21                -1  1    590336  models.common.Conv                      [256, 256, 3, 2]              \n",
      " 22          [-1, 10]  1         0  models.common.Concat                    [1]                           \n",
      " 23                -1  1   1182720  models.common.C3                        [512, 512, 1, False]          \n",
      " 24      [17, 20, 23]  1     18879  models.yolo.Detect                      [2, [[10, 13, 16, 30, 33, 23], [30, 61, 62, 45, 59, 119], [116, 90, 156, 198, 373, 326]], [128, 256, 512]]\n",
      "YOLOv5s summary: 214 layers, 7025023 parameters, 7025023 gradients, 16.0 GFLOPs\n",
      "\n",
      "Transferred 342/349 items from yolov5s.pt\n",
      "\u001b[34m\u001b[1moptimizer:\u001b[0m SGD(lr=0.01) with parameter groups 57 weight(decay=0.0), 60 weight(decay=0.0005), 60 bias\n",
      "\u001b[34m\u001b[1mtrain: \u001b[0mScanning /opt/app-root/src/robot_detection_demo/r_data/train.cache... 140\u001b[0m\n",
      "\u001b[34m\u001b[1mval: \u001b[0mScanning /opt/app-root/src/robot_detection_demo/r_data/test.cache... 157 im\u001b[0m\n",
      "\n",
      "\u001b[34m\u001b[1mAutoAnchor: \u001b[0m6.30 anchors/target, 1.000 Best Possible Recall (BPR). Current anchors are a good fit to dataset ✅\n",
      "Plotting labels to runs/train/exp/labels.jpg... \n",
      "Image sizes 640 train, 640 val\n",
      "Using 2 dataloader workers\n",
      "Logging results to \u001b[1mruns/train/exp\u001b[0m\n",
      "Starting training for 10 epochs...\n",
      "\n",
      "      Epoch    GPU_mem   box_loss   obj_loss   cls_loss  Instances       Size\n",
      "        0/9         0G    0.07249    0.03393    0.02652          7        640: 1\n",
      "                 Class     Images  Instances          P          R      mAP50   \n",
      "                   all        157        286      0.514      0.675      0.573      0.273\n",
      "\n",
      "      Epoch    GPU_mem   box_loss   obj_loss   cls_loss  Instances       Size\n",
      "        1/9         0G    0.05549    0.02083    0.02106          5        640: 1\n",
      "                 Class     Images  Instances          P          R      mAP50   \n",
      "                   all        157        286      0.409      0.895      0.442      0.185\n",
      "\n",
      "      Epoch    GPU_mem   box_loss   obj_loss   cls_loss  Instances       Size\n",
      "        2/9         0G    0.05378     0.0181     0.0094          3        640: 1\n",
      "                 Class     Images  Instances          P          R      mAP50   \n",
      "                   all        157        286      0.721      0.901      0.853      0.466\n",
      "\n",
      "      Epoch    GPU_mem   box_loss   obj_loss   cls_loss  Instances       Size\n",
      "        3/9         0G    0.04451    0.01539   0.005512          1        640: 1\n",
      "                 Class     Images  Instances          P          R      mAP50   \n",
      "                   all        157        286      0.959      0.975      0.983      0.494\n",
      "\n",
      "      Epoch    GPU_mem   box_loss   obj_loss   cls_loss  Instances       Size\n",
      "        4/9         0G    0.03836    0.01411   0.004217          5        640: 1\n",
      "                 Class     Images  Instances          P          R      mAP50   \n",
      "                   all        157        286      0.982          1      0.991      0.591\n",
      "\n",
      "      Epoch    GPU_mem   box_loss   obj_loss   cls_loss  Instances       Size\n",
      "        5/9         0G    0.03221    0.01324   0.003666          3        640: 1\n",
      "                 Class     Images  Instances          P          R      mAP50   \n",
      "                   all        157        286       0.98      0.993      0.988      0.695\n",
      "\n",
      "      Epoch    GPU_mem   box_loss   obj_loss   cls_loss  Instances       Size\n",
      "        6/9         0G    0.02716    0.01239   0.002974          5        640: 1\n",
      "                 Class     Images  Instances          P          R      mAP50   \n",
      "                   all        157        286      0.979          1      0.989       0.72\n",
      "\n",
      "      Epoch    GPU_mem   box_loss   obj_loss   cls_loss  Instances       Size\n",
      "        7/9         0G    0.02422    0.01169   0.002903          7        640: 1\n",
      "                 Class     Images  Instances          P          R      mAP50   \n",
      "                   all        157        286      0.979          1      0.988      0.745\n",
      "\n",
      "      Epoch    GPU_mem   box_loss   obj_loss   cls_loss  Instances       Size\n",
      "        8/9         0G    0.02049    0.01083   0.003039          5        640: 1\n",
      "                 Class     Images  Instances          P          R      mAP50   \n",
      "                   all        157        286      0.984      0.996       0.99      0.812\n",
      "\n",
      "      Epoch    GPU_mem   box_loss   obj_loss   cls_loss  Instances       Size\n",
      "        9/9         0G    0.01816    0.01036   0.002498          1        640: 1\n",
      "                 Class     Images  Instances          P          R      mAP50   \n",
      "                   all        157        286      0.986          1      0.991      0.835\n",
      "\n",
      "10 epochs completed in 0.545 hours.\n",
      "Optimizer stripped from runs/train/exp/weights/last.pt, 14.3MB\n",
      "Optimizer stripped from runs/train/exp/weights/best.pt, 14.3MB\n",
      "\n",
      "Validating runs/train/exp/weights/best.pt...\n",
      "Fusing layers... \n",
      "YOLOv5s summary: 157 layers, 7015519 parameters, 0 gradients, 15.8 GFLOPs\n",
      "                 Class     Images  Instances          P          R      mAP50   \n",
      "                   all        157        286      0.986          1      0.991      0.834\n",
      "               Robot-R        157        134      0.997          1      0.995      0.827\n",
      "               Robot-B        157        152      0.974          1      0.986      0.841\n",
      "Results saved to \u001b[1mruns/train/exp\u001b[0m\n"
     ]
    }
   ],
   "source": [
    "!python train.py --data './data/robot.yaml' --cfg './models/yolov5s.yaml' --epoch 10 --imgsz 640 --batch-size 2 --workers 2"
   ]
  },
  {
   "cell_type": "code",
   "execution_count": null,
   "metadata": {
    "id": "JyCcu1GXBluP"
   },
   "outputs": [],
   "source": []
  }
 ],
 "metadata": {
  "colab": {
   "provenance": []
  },
  "kernelspec": {
   "display_name": "Python 3",
   "language": "python",
   "name": "python3"
  },
  "language_info": {
   "codemirror_mode": {
    "name": "ipython",
    "version": 3
   },
   "file_extension": ".py",
   "mimetype": "text/x-python",
   "name": "python",
   "nbconvert_exporter": "python",
   "pygments_lexer": "ipython3",
   "version": "3.8.13"
  },
  "vscode": {
   "interpreter": {
    "hash": "15682bd689437bebb21b50b1d644ed623558afc3b0ad2fa5086c9537d508bcd8"
   }
  }
 },
 "nbformat": 4,
 "nbformat_minor": 4
}
